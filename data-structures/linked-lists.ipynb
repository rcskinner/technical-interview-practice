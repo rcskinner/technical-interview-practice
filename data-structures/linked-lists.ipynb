{
 "cells": [
  {
   "cell_type": "markdown",
   "source": [
    "# Linked Lists\r\n",
    "\r\n",
    "A linked list consists of a a collection of memory elements linked by pointers. "
   ],
   "metadata": {}
  },
  {
   "cell_type": "code",
   "execution_count": 5,
   "source": [
    "class SingleLinkNode():\r\n",
    "    \"\"\"Implementation of a node for singly linked list.\"\"\"\r\n",
    "    def __init__(self,data, next=None):\r\n",
    "        self.data=data\r\n",
    "        self.next= next\r\n",
    "\r\n",
    "class SinglyLinkedList:\r\n",
    "    \"\"\"Implementation of a singly linked list.\"\"\"\r\n",
    "    def __init__(self):\r\n",
    "        self.head=None\r\n",
    "    \r\n",
    "    def push(self,data):\r\n",
    "        # Update the head node of the list\r\n",
    "        head_node = SingleLinkNode(data=data, next=self.head)\r\n",
    "        self.head = head_node\r\n",
    "\r\n",
    "    def insertAfter(self, target_node, new_data):\r\n",
    "        # Insert a new node after the target node \r\n",
    "        new_node = SingleLinkNode(data=new_data, next= target_node.next) \r\n",
    "        target_node.next = new_node\r\n",
    "\r\n",
    "    def append(self,data):\r\n",
    "        # Scan for the end of the linked list \r\n",
    "        if self.head is None: \r\n",
    "            self.head = SingleLinkNode(data = data)\r\n",
    "            return\r\n",
    "        \r\n",
    "        temp = self.head\r\n",
    "        while temp.next is not None:\r\n",
    "            temp = temp.next\r\n",
    "\r\n",
    "        # Construct the tail node and return\r\n",
    "        tail_node = SingleLinkNode(data=data)\r\n",
    "        temp.next = tail_node\r\n",
    "        \r\n",
    "    def printlist(self):\r\n",
    "        # Print out the contents of the linked list\r\n",
    "        temp = self.head\r\n",
    "        while (temp):\r\n",
    "            print(temp.data)\r\n",
    "            temp = temp.next\r\n"
   ],
   "outputs": [],
   "metadata": {}
  },
  {
   "cell_type": "code",
   "execution_count": 18,
   "source": [
    "# Append to the linked list\r\n",
    "llist = SinglyLinkedList()\r\n",
    "llist.append(data=1)\r\n",
    "llist.push(0)\r\n",
    "llist.append(2)\r\n",
    "llist.printlist()"
   ],
   "outputs": [
    {
     "output_type": "stream",
     "name": "stdout",
     "text": [
      "0\n",
      "1\n",
      "2\n"
     ]
    }
   ],
   "metadata": {}
  }
 ],
 "metadata": {
  "orig_nbformat": 4,
  "language_info": {
   "name": "python",
   "version": "3.7.0",
   "mimetype": "text/x-python",
   "codemirror_mode": {
    "name": "ipython",
    "version": 3
   },
   "pygments_lexer": "ipython3",
   "nbconvert_exporter": "python",
   "file_extension": ".py"
  },
  "kernelspec": {
   "name": "python3",
   "display_name": "Python 3.7.0 64-bit ('technical-interview-practice-zC3zx2nL-py3.7': poetry)"
  },
  "interpreter": {
   "hash": "d7d857f74f9306d9c1ce8cb5a318b78bb570b6e9905889abd1d3871c1df1301a"
  }
 },
 "nbformat": 4,
 "nbformat_minor": 2
}