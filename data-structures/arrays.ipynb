{
    "cells": [
        {
            "cell_type": "markdown",
            "source": [
                "# Arrays \r\n",
                "\r\n",
                "Arrays are implemented in Python as a list. Lists consist of an index/value pairs (often represented as tuples)\r\n",
                "\r\n",
                "Evaluated Operations:\r\n",
                "- Access    (Accessing the element at a given memory location)\r\n",
                "- Appending (Adding element to the end of an array)\r\n",
                "- Insertion (Inserting an element in an arbitrary location)\r\n",
                "- Popping   (Removing an element from the array)\r\n",
                "- Slicing   (Selecting a subset of the arrays)\r\n"
            ],
            "metadata": {}
        },
        {
            "cell_type": "code",
            "execution_count": 16,
            "source": [
                "# Accessing the element at a given location \r\n",
                "array = [1,2,3]\r\n",
                "array[0]"
            ],
            "outputs": [
                {
                    "output_type": "execute_result",
                    "data": {
                        "text/plain": [
                            "1"
                        ]
                    },
                    "metadata": {},
                    "execution_count": 16
                }
            ],
            "metadata": {}
        },
        {
            "cell_type": "code",
            "execution_count": 2,
            "source": [
                "# Appending element to an array\r\n",
                "array = [1,2,3]\r\n",
                "array.append(4)\r\n",
                "array"
            ],
            "outputs": [
                {
                    "output_type": "execute_result",
                    "data": {
                        "text/plain": [
                            "[1, 2, 3, 4]"
                        ]
                    },
                    "metadata": {},
                    "execution_count": 2
                }
            ],
            "metadata": {}
        },
        {
            "cell_type": "code",
            "execution_count": 6,
            "source": [
                "# Inserting an element into an array\r\n",
                "array = [1,2,3,5]\r\n",
                "array.insert(3,4)\r\n",
                "array"
            ],
            "outputs": [
                {
                    "output_type": "execute_result",
                    "data": {
                        "text/plain": [
                            "[1, 2, 3, 4, 5]"
                        ]
                    },
                    "metadata": {},
                    "execution_count": 6
                }
            ],
            "metadata": {}
        },
        {
            "cell_type": "code",
            "execution_count": 9,
            "source": [
                "# Pop an element from the array \r\n",
                "array = [1,2,3]\r\n",
                "array.pop(1)\r\n",
                "array"
            ],
            "outputs": [
                {
                    "output_type": "execute_result",
                    "data": {
                        "text/plain": [
                            "[1, 3]"
                        ]
                    },
                    "metadata": {},
                    "execution_count": 9
                }
            ],
            "metadata": {}
        },
        {
            "cell_type": "code",
            "execution_count": 13,
            "source": [
                "# Ennumerating an array to show index/value \r\n",
                "array = [1,2,3,4]\r\n",
                "for enum in enumerate(array):\r\n",
                "    print(enum)"
            ],
            "outputs": [
                {
                    "output_type": "stream",
                    "name": "stdout",
                    "text": [
                        "(0, 1)\n",
                        "(1, 2)\n",
                        "(2, 3)\n",
                        "(3, 4)\n"
                    ]
                }
            ],
            "metadata": {}
        },
        {
            "cell_type": "markdown",
            "source": [
                "## Multidimensional Arrays\r\n",
                "\r\n",
                "In general arrays can also be multi-dimensional "
            ],
            "metadata": {}
        },
        {
            "cell_type": "code",
            "execution_count": 15,
            "source": [
                "array = [[1,2],[3,4],[5,6]]\r\n",
                "array[0]"
            ],
            "outputs": [
                {
                    "output_type": "execute_result",
                    "data": {
                        "text/plain": [
                            "[1, 2]"
                        ]
                    },
                    "metadata": {},
                    "execution_count": 15
                }
            ],
            "metadata": {}
        }
    ],
    "metadata": {
        "orig_nbformat": 4,
        "language_info": {
            "name": "python",
            "version": "3.7.0",
            "mimetype": "text/x-python",
            "codemirror_mode": {
                "name": "ipython",
                "version": 3
            },
            "pygments_lexer": "ipython3",
            "nbconvert_exporter": "python",
            "file_extension": ".py"
        },
        "kernelspec": {
            "name": "python3",
            "display_name": "Python 3.7.0 64-bit ('technical-interview-practice-zC3zx2nL-py3.7': poetry)"
        },
        "interpreter": {
            "hash": "d7d857f74f9306d9c1ce8cb5a318b78bb570b6e9905889abd1d3871c1df1301a"
        }
    },
    "nbformat": 4,
    "nbformat_minor": 2
}