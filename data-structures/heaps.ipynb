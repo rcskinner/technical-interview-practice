{
 "cells": [
  {
   "cell_type": "markdown",
   "source": [
    "# Heaps\r\n",
    "\r\n",
    "A heap is a complete binary tree (all levels completely full, finally level left-most full)\r\n",
    "\r\n",
    "```\r\n",
    "        10                  10\r\n",
    "       /  \\                /  \\\r\n",
    "      20   30             20  30\r\n",
    "     /\r\n",
    "    40\r\n",
    "```\r\n",
    "\r\n",
    "Heaps are defined as a minHeap or a maxHeap (all l/r child nodes are >= or <= the parent node)\r\n",
    "\r\n",
    "Basic Heap Operations:\r\n",
    "- find-max: Find the maximum item of the heap)\r\n",
    "- insert: Add a new key to the heap)\r\n",
    "- extract-max: Returns the maximum value from a max heap (after removing it from the heap)\r\n",
    "- delete-max (delete-min): Delete the root node of a max heap\r\n",
    "\r\n",
    "Creation: \r\n",
    "- create-heap: Instantiate an empty heap\r\n",
    "- heapify: create a heap out of a given array of elements\r\n",
    "- merge (union): Join two heaps to form a valid new heaps\r\n",
    "- meld: Join two heaps to form a valid new heap containing all the elements of both"
   ],
   "metadata": {}
  },
  {
   "cell_type": "code",
   "execution_count": 16,
   "source": [
    "class Node:\r\n",
    "    \"\"\"Basic node from the heap class\"\"\"\r\n",
    "    def __init__(self, value, left=None, right=None):\r\n",
    "        self.value = value\r\n",
    "        self.left = left \r\n",
    "        self.right = right\r\n",
    "\r\n",
    "\r\n",
    "class minHeap:\r\n",
    "    def __init__(self,root=None):\r\n",
    "        self.root = root\r\n",
    "        self.node_list = []\r\n",
    "        return\r\n",
    "    \r\n",
    "    def insert(self,value):\r\n",
    "        \"\"\"Method to add a value to a binary tree. If no root node exists \r\n",
    "        create the root node. Else execute breadth-first search.\"\"\"\r\n",
    "        # If root doesn't exist \r\n",
    "        if self.root == None:\r\n",
    "            self.root = Node(value=value)\r\n",
    "\r\n"
   ],
   "outputs": [],
   "metadata": {}
  },
  {
   "cell_type": "code",
   "execution_count": 21,
   "source": [
    "# Construct a new heap and insert two nodes into it\r\n",
    "heap = minHeap()\r\n",
    "heap.insert(10)\r\n",
    "heap.insert(2)"
   ],
   "outputs": [],
   "metadata": {}
  },
  {
   "cell_type": "code",
   "execution_count": 26,
   "source": [
    "l = [1,2,3]\r\n",
    "l.pop(-1)\r\n",
    "l"
   ],
   "outputs": [
    {
     "output_type": "execute_result",
     "data": {
      "text/plain": [
       "[1, 2]"
      ]
     },
     "metadata": {},
     "execution_count": 26
    }
   ],
   "metadata": {}
  },
  {
   "cell_type": "code",
   "execution_count": null,
   "source": [],
   "outputs": [],
   "metadata": {}
  }
 ],
 "metadata": {
  "orig_nbformat": 4,
  "language_info": {
   "name": "python",
   "version": "3.7.0",
   "mimetype": "text/x-python",
   "codemirror_mode": {
    "name": "ipython",
    "version": 3
   },
   "pygments_lexer": "ipython3",
   "nbconvert_exporter": "python",
   "file_extension": ".py"
  },
  "kernelspec": {
   "name": "python3",
   "display_name": "Python 3.7.0 64-bit ('technical-interview-practice-zC3zx2nL-py3.7': poetry)"
  },
  "interpreter": {
   "hash": "d7d857f74f9306d9c1ce8cb5a318b78bb570b6e9905889abd1d3871c1df1301a"
  }
 },
 "nbformat": 4,
 "nbformat_minor": 2
}