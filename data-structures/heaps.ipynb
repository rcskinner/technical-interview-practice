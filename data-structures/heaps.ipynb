{
 "cells": [
  {
   "cell_type": "markdown",
   "source": [
    "# Heaps\r\n",
    "\r\n",
    "A heap is a complete binary tree (all levels completely full, finally level left-most full)\r\n",
    "\r\n",
    "```\r\n",
    "        10                  10\r\n",
    "       /  \\                /  \\\r\n",
    "      20   30             20  30\r\n",
    "     /\r\n",
    "    40\r\n",
    "```\r\n",
    "\r\n",
    "Heaps are defined as a minHeap or a maxHeap (all l/r child nodes are >= or <= the parent node)\r\n",
    "\r\n",
    "Basic Heap Operations:\r\n",
    "- find-max: Find the maximum item of the heap)\r\n",
    "- insert: Add a new key to the heap)\r\n",
    "- extract-max: Returns the maximum value from a max heap (after removing it from the heap)\r\n",
    "- delete-max (delete-min): Delete the root node of a max heap\r\n",
    "\r\n",
    "Creation: \r\n",
    "- create-heap: Instantiate an empty heap\r\n",
    "- heapify: create a heap out of a given array of elements\r\n",
    "- merge (union): Join two heaps to form a valid new heaps\r\n",
    "- meld: Join two heaps to form a valid new heap containing all the elements of both\r\n",
    "\r\n",
    "# Traversing a Heap in Tree Structure\r\n",
    "---\r\n",
    "Interesting Properties of Heaps:\r\n",
    "```\r\n",
    "         1 \r\n",
    "       /   \\\r\n",
    "      2     3\r\n",
    "     / \\   / \\\r\n",
    "    4  5  6   7\r\n",
    "```\r\n",
    "\r\n",
    "|array index | binary representation | root --> node| node -> root| \r\n",
    "|------------|-----------------------|--------------|-------------|\r\n",
    "|1           |1                      | N/A |\r\n",
    "|2           |10  | left | right |\r\n",
    "|3           |11  | right| left | \r\n",
    "|4           |100 | left, left | right, right | \r\n",
    "|5           |101 | left, right | right, left |\r\n",
    "|6           |110 | right, left | left, right |\r\n",
    "|7           |111 | right, right | left, left | \r\n",
    "\r\n",
    "\r\n",
    "Simple trick to outline path to node in binary heap: \r\n",
    "- Take binary representation, drop leading digit\r\n",
    "- reading from l->r operations to find position are {1: left, 0: right}\r\n",
    "<br>\r\n",
    "\r\n",
    "\r\n",
    "# Heap Traversal Relationships:  \r\n",
    "--------------------------------\r\n",
    "Given a particular index (i):\r\n",
    "- Left Child Index = (2*i) + 1\r\n",
    "- Right Child Index = (2*i) + 2\r\n",
    "- Finding the parent:\r\n",
    "  - if i%2 = 1 --> (i - 1)/2\r\n",
    "  - if i%2 = 0 --> (i - 2)/2"
   ],
   "metadata": {}
  },
  {
   "cell_type": "code",
   "execution_count": 1,
   "source": [
    "class Node:\r\n",
    "    \"\"\"Basic node from the heap class\"\"\"\r\n",
    "    def __init__(self, value, left=None, right=None):\r\n",
    "        self.value = value\r\n",
    "        self.left = left \r\n",
    "        self.right = right\r\n",
    "\r\n",
    "\r\n",
    "class MinHeap:\r\n",
    "    \"\"\"Implementation of the minimum heap (MinHeap)\"\"\"\r\n",
    "    def __init__(self,root=None):\r\n",
    "        self.root = root\r\n",
    "        self.node_array = []\r\n",
    "        return\r\n",
    "    \r\n",
    "    def _find_child_ind(self,child:str, ind:int) -> int:\r\n",
    "        \"\"\"Find the left/right child index of a given index\"\"\"\r\n",
    "        if child == \"left\":\r\n",
    "            child = (2*ind) + 1\r\n",
    "        if child == \"right\":\r\n",
    "            child = (2*ind) + 2 \r\n",
    "        return child \r\n",
    "    \r\n",
    "    def _parent_ind(self,ind:int) -> int:\r\n",
    "        \"\"\"Determine the parent of a given index in the heap array representation\"\"\"\r\n",
    "        if ind == 0: \r\n",
    "            return None\r\n",
    "        # Check if ind is even\r\n",
    "        if ind%2 == 1:\r\n",
    "            parent = (ind-1)/2 \r\n",
    "        if ind%2 == 0:\r\n",
    "            parent = (ind-2)/2 \r\n",
    "        return int(parent)\r\n",
    "\r\n",
    "    def insert(self,value):\r\n",
    "        \"\"\"Algorithm for inserting a value into the heap.\r\n",
    "            1. Add new value to the array representation\r\n",
    "            2. Check if the new value is < the parent (if any)\r\n",
    "                a. If no parent, break\r\n",
    "                b. If new_val > parent_val, break \r\n",
    "                c. If new_Val < parent_val, update ind & return to 2.\r\n",
    "        \"\"\"\r\n",
    "        # Add the node to the array\r\n",
    "        self.node_array.append(value)\r\n",
    "\r\n",
    "        # Initialize with the insertion index / index of parent\r\n",
    "        current_ind = len(self.node_array) - 1\r\n",
    "        parent_ind = self._parent_ind(current_ind)\r\n",
    "\r\n",
    "        while parent_ind is not None: \r\n",
    "            print(current_ind, parent_ind)\r\n",
    "            # Get the values for each index\r\n",
    "            current_val = self.node_array[current_ind]\r\n",
    "            parent_val = self.node_array[parent_ind]\r\n",
    "        \r\n",
    "            # If current_val < parent_val execute swap; update current_ind\r\n",
    "            if current_val < parent_val:\r\n",
    "                self.node_array[parent_ind] = current_val\r\n",
    "                self.node_array[current_ind] = parent_val\r\n",
    "                \r\n",
    "            current_ind = parent_ind\r\n",
    "            parent_ind = self._parent_ind(current_ind)\r\n",
    "        return self.node_array"
   ],
   "outputs": [],
   "metadata": {}
  },
  {
   "cell_type": "code",
   "execution_count": 2,
   "source": [
    "# Construct a new heap and insert two nodes into it\r\n",
    "heap = MinHeap()\r\n",
    "test_node = 1 \r\n",
    "print(\"Parent of {node}:\\t\\t\".format(node=test_node), heap._parent_ind(test_node))\r\n",
    "print(\"Left child of {node}:\\t\".format(node=test_node), heap._find_child_ind(\"left\",test_node))\r\n",
    "print(\"Right child of {node}:\\t\".format(node=test_node), heap._find_child_ind(\"right\",test_node))"
   ],
   "outputs": [
    {
     "output_type": "stream",
     "name": "stdout",
     "text": [
      "Parent of 1:\t\t 0\n",
      "Left child of 1:\t 3\n",
      "Right child of 1:\t 4\n"
     ]
    }
   ],
   "metadata": {}
  },
  {
   "cell_type": "code",
   "execution_count": 3,
   "source": [
    "heap.insert(1)"
   ],
   "outputs": [
    {
     "output_type": "execute_result",
     "data": {
      "text/plain": [
       "[1]"
      ]
     },
     "metadata": {},
     "execution_count": 3
    }
   ],
   "metadata": {}
  },
  {
   "cell_type": "code",
   "execution_count": 8,
   "source": [
    "heap.insert(0)"
   ],
   "outputs": [
    {
     "output_type": "stream",
     "name": "stdout",
     "text": [
      "4 1\n",
      "1 0\n"
     ]
    },
    {
     "output_type": "execute_result",
     "data": {
      "text/plain": [
       "[0, 1, 1, 2, 1]"
      ]
     },
     "metadata": {},
     "execution_count": 8
    }
   ],
   "metadata": {}
  },
  {
   "cell_type": "code",
   "execution_count": null,
   "source": [],
   "outputs": [],
   "metadata": {}
  }
 ],
 "metadata": {
  "orig_nbformat": 4,
  "language_info": {
   "name": "python",
   "version": "3.7.0",
   "mimetype": "text/x-python",
   "codemirror_mode": {
    "name": "ipython",
    "version": 3
   },
   "pygments_lexer": "ipython3",
   "nbconvert_exporter": "python",
   "file_extension": ".py"
  },
  "kernelspec": {
   "name": "python3",
   "display_name": "Python 3.7.0 64-bit ('technical-interview-practice-zC3zx2nL-py3.7': poetry)"
  },
  "interpreter": {
   "hash": "d7d857f74f9306d9c1ce8cb5a318b78bb570b6e9905889abd1d3871c1df1301a"
  }
 },
 "nbformat": 4,
 "nbformat_minor": 2
}