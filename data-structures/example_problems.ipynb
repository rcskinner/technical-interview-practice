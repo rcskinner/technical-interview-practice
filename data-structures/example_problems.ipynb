{
 "cells": [
  {
   "cell_type": "markdown",
   "source": [
    "# Example Problems"
   ],
   "metadata": {}
  },
  {
   "cell_type": "markdown",
   "source": [
    "## Singly Linked List Operations\r\n",
    "----\r\n",
    "\r\n",
    "1. Push (Insert a new head node)\r\n",
    "2. Pop (Remove the tail node)\r\n",
    "3. Reverse (reverse the linked list)\r\n",
    "\r\n",
    "Given a linked list representation, reverse the linked list \r\n",
    "\r\n",
    "I.e. 1 --> 2 --> 3 becomes 3 --> 2 --> 1 "
   ],
   "metadata": {}
  },
  {
   "cell_type": "code",
   "execution_count": null,
   "source": [
    "class Node():\r\n",
    "    def __init__(self,value):\r\n",
    "        self.value = value\r\n",
    "        self.next = None\r\n",
    "\r\n",
    "class LinkedList():\r\n",
    "    def __init__(self):\r\n",
    "        self.head = None\r\n",
    "    \r\n",
    "    def push(self, value):\r\n",
    "        \"\"\"Add a new node at the start\"\"\"\r\n",
    "        new_node = Node(value)\r\n",
    "        new_node.next = self.head\r\n",
    "        self.head = new_node\r\n",
    "    \r\n",
    "    def print_list(self):\r\n",
    "        current = self.head\r\n",
    "        while current is not None:\r\n",
    "            print(\"Current: {c}\\tNext: {n}\".format(c=current.value, n=current.next))\r\n",
    "            current = current.next\r\n",
    "    \r\n",
    "    def reverse(self):\r\n",
    "        \"\"\"Reverse the linked list\"\"\"\r\n",
    "        # Initialize with the current set to head \r\n",
    "        # previous none\r\n",
    "        current = self.head\r\n",
    "        prev = None\r\n",
    "        while current is not None:\r\n",
    "            next = current.next\r\n",
    "            current.next = prev\r\n",
    "            prev = current\r\n",
    "            current = next\r\n",
    "        self.head = prev\r\n"
   ],
   "outputs": [],
   "metadata": {}
  },
  {
   "cell_type": "code",
   "execution_count": null,
   "source": [
    "# Push Example\r\n",
    "llist = LinkedList()\r\n",
    "llist.push(3)\r\n",
    "llist.push(2)\r\n",
    "llist.push(1)\r\n",
    "llist.push(0)\r\n",
    "llist.print_list()"
   ],
   "outputs": [],
   "metadata": {}
  },
  {
   "cell_type": "code",
   "execution_count": null,
   "source": [
    "llist = LinkedList()\r\n",
    "llist.push(2)\r\n",
    "llist.push(1)\r\n",
    "llist.reverse()\r\n",
    "llist.print_list()"
   ],
   "outputs": [],
   "metadata": {}
  },
  {
   "cell_type": "markdown",
   "source": [
    "## Binary Heap Operations\r\n",
    "----\r\n",
    "Inserting / Heapifying a node into a binary minHeap. \r\n",
    "\r\n",
    "Array representation ID equations: \r\n",
    "`Left Child: (2*i)+1`  \r\n",
    "`Right Child: (2*i)+2`  \r\n",
    "```\r\n",
    "Parent: \r\n",
    "   if i%2 == 0: \r\n",
    "      (i-1)/2\r\n",
    "   if i%2 == 1:\r\n",
    "      (i-2)/2\r\n",
    "\r\n",
    "```\r\n",
    "\r\n",
    "Basic Operations: \r\n",
    "- Insertion \r\n",
    "- Find Min \r\n",
    "- Remove Min "
   ],
   "metadata": {}
  },
  {
   "cell_type": "code",
   "execution_count": 7,
   "source": [
    "class MinHeap():\r\n",
    "    \"\"\"minHeap Binary Tree Implementation\"\"\"\r\n",
    "    def __init__(self):\r\n",
    "        self.node_array = []\r\n",
    "\r\n",
    "    def _find_parent(self,ind):\r\n",
    "        \"\"\"Find the accompanying parent index of a given node index.\"\"\"\r\n",
    "        if ind == 0:\r\n",
    "            return None\r\n",
    "        if ind%2 == 0: \r\n",
    "            parent = (ind-1)/2\r\n",
    "        if ind%2 == 1: \r\n",
    "            parent = (ind-2)/2\r\n",
    "        return int(parent) \r\n",
    "    \r\n",
    "    def insert(self,val):\r\n",
    "        \"\"\"Function to insert a value into a binary tree\"\"\"\r\n",
    "        # Add node to array, find insert ind and parent ind\r\n",
    "        self.node_array.append(val)\r\n",
    "        insert_ind = len(self.node_array) - 1 \r\n",
    "        parent_ind = self._find_parent(insert_ind)\r\n",
    "        \r\n",
    "        # Search up through the inserted nodes ancestors \r\n",
    "        while parent_ind is not None:\r\n",
    "            # Get the array values\r\n",
    "            parent_val = self.node_array[parent_ind]\r\n",
    "            ins_val = self.node_array[insert_ind]\r\n",
    "            # Replace array positions if ins < parent\r\n",
    "            if ins_val < parent_val:\r\n",
    "                # Swap array values \r\n",
    "                self.node_array[parent_ind] = val\r\n",
    "                self.node_array[insert_ind] = parent_val\r\n",
    "\r\n",
    "                # Update current ind and search for new parent\r\n",
    "                insert_ind = parent_ind\r\n",
    "                print(parent_ind)\r\n",
    "                parent_ind = self._find_parent(insert_ind)\r\n",
    "            else:\r\n",
    "                break\r\n",
    "        \r\n",
    "\r\n"
   ],
   "outputs": [],
   "metadata": {}
  },
  {
   "cell_type": "code",
   "execution_count": 9,
   "source": [
    "heap = MinHeap()\r\n",
    "heap.insert(1)\r\n",
    "heap.insert(2)\r\n",
    "heap.insert(0)\r\n",
    "heap.node_array"
   ],
   "outputs": [
    {
     "output_type": "stream",
     "name": "stdout",
     "text": [
      "0\n"
     ]
    },
    {
     "output_type": "execute_result",
     "data": {
      "text/plain": [
       "[0, 2, 1]"
      ]
     },
     "metadata": {},
     "execution_count": 9
    }
   ],
   "metadata": {}
  },
  {
   "cell_type": "markdown",
   "source": [
    "## DFS/BFS Traversal in Tree\r\n",
    "----\r\n",
    "\r\n",
    "Breadth First / Depth First Traversals on a Tree"
   ],
   "metadata": {}
  },
  {
   "cell_type": "markdown",
   "source": [
    "## LRU Cache\r\n",
    "----"
   ],
   "metadata": {}
  },
  {
   "cell_type": "markdown",
   "source": [
    "## Identifying String Tokens\r\n",
    "----\r\n",
    "\r\n",
    "Given a string find all instances of characters encapsulated by a special designator character and the start/end index for each token. \r\n",
    "\r\n",
    "### Example 1:\r\n",
    "str = bhglf{abc} --> abc\r\n",
    "\r\n",
    "### Example 2: \r\n",
    "str = bhjga(abc) --> abc"
   ],
   "metadata": {}
  },
  {
   "cell_type": "markdown",
   "source": [],
   "metadata": {}
  }
 ],
 "metadata": {
  "orig_nbformat": 4,
  "language_info": {
   "name": "python",
   "version": "3.7.0",
   "mimetype": "text/x-python",
   "codemirror_mode": {
    "name": "ipython",
    "version": 3
   },
   "pygments_lexer": "ipython3",
   "nbconvert_exporter": "python",
   "file_extension": ".py"
  },
  "kernelspec": {
   "name": "python3",
   "display_name": "Python 3.7.0 64-bit ('technical-interview-practice-zC3zx2nL-py3.7': poetry)"
  },
  "interpreter": {
   "hash": "d7d857f74f9306d9c1ce8cb5a318b78bb570b6e9905889abd1d3871c1df1301a"
  }
 },
 "nbformat": 4,
 "nbformat_minor": 2
}