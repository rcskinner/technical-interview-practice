{
 "cells": [
  {
   "cell_type": "markdown",
   "source": [
    "# Binary Trees\r\n",
    "\r\n",
    "Why use a Binary Tree? \r\n",
    "1. Your infromation is heirarchical by nature\r\n",
    "2. Moderate access / search (faster than Linked Lists, slower than arrays)\r\n",
    "3. Moderate insertion/deletion (quicker than Array, slower than Unordered Linked List)\r\n",
    "4. No limit on the number of nodes that can be added (unliked a fixed size array)\r\n",
    "\r\n",
    "Binary Tree Properties: \r\n"
   ],
   "metadata": {}
  },
  {
   "cell_type": "code",
   "execution_count": 1,
   "source": [
    "class Node:\r\n",
    "    \"\"\"Node in a binary tree\"\"\"\r\n",
    "    def __init__(self,key):\r\n",
    "        self.left = None\r\n",
    "        self.right = None\r\n",
    "        self.val = key\r\n",
    "\r\n",
    "class BinaryTree:\r\n",
    "    \"\"\"Binary Tree Implementation\"\"\""
   ],
   "outputs": [],
   "metadata": {}
  },
  {
   "cell_type": "code",
   "execution_count": 2,
   "source": [
    "# Small example tree\r\n",
    "root = Node(1)\r\n",
    "root.left = Node(2)\r\n",
    "root.right = Node(3)\r\n",
    "root.left.left = Node(4)\r\n"
   ],
   "outputs": [],
   "metadata": {}
  },
  {
   "cell_type": "markdown",
   "source": [
    "## Insertion into a Binary Tree\r\n",
    "Given a binary tree and a key insert the key into the binary tree at the first position availabile in level order. If a node is found that has an opening on the left insert, ow attempt to insert on the right."
   ],
   "metadata": {}
  },
  {
   "cell_type": "code",
   "execution_count": 7,
   "source": [
    "# Construct the node examples\r\n",
    "\"\"\" Constructing the following tree\r\n",
    "      1\r\n",
    "    /  \\\r\n",
    "   2    3\r\n",
    "  /\r\n",
    " 4 \r\n",
    "\"\"\"\r\n",
    "\r\n",
    "\r\n",
    "root = Node(1) \r\n",
    "root.left = Node(2)\r\n",
    "root.right = Node(3)\r\n",
    "root.left.left = Node(4)\r\n",
    "\r\n",
    "# General Process:\r\n",
    "# 1. Construct a queue, adding root node \r\n",
    "# 2. Take first element of the queue \r\n",
    "# 3. Check if the root node has a left node, if yes add to queue, if no add the key and terminate\r\n",
    "# 4. Check if the root node has a right node, if yes add to queue, if no add the key and terminate\r\n",
    "#  return to (2)\r\n",
    "\r\n",
    "def bt_level_insertion(root,key):\r\n",
    "    queue = []\r\n",
    "    queue.append(root)\r\n",
    "\r\n",
    "    while queue:\r\n",
    "        # Check if left node exists\r\n",
    "        current_node = queue[0]\r\n",
    "        if current_node.left is None:\r\n",
    "            current_node.left = Node(key)\r\n",
    "            return\r\n",
    "        else:\r\n",
    "            queue.append(current_node.left)\r\n",
    "        \r\n",
    "        # Check if right node exits\r\n",
    "        if current_node.right is None:\r\n",
    "            current_node.right = Node(key)\r\n",
    "            return \r\n",
    "        else: \r\n",
    "            queue.append(current_node.right)\r\n",
    "        \r\n",
    "        # Remove the current node from queue\r\n",
    "        queue = queue[-1:]\r\n",
    "    return 1\r\n",
    "bt_level_insertion(root=root, key=2)"
   ],
   "outputs": [],
   "metadata": {}
  },
  {
   "cell_type": "code",
   "execution_count": null,
   "source": [],
   "outputs": [],
   "metadata": {}
  }
 ],
 "metadata": {
  "orig_nbformat": 4,
  "language_info": {
   "name": "python",
   "version": "3.7.0",
   "mimetype": "text/x-python",
   "codemirror_mode": {
    "name": "ipython",
    "version": 3
   },
   "pygments_lexer": "ipython3",
   "nbconvert_exporter": "python",
   "file_extension": ".py"
  },
  "kernelspec": {
   "name": "python3",
   "display_name": "Python 3.7.0 64-bit ('technical-interview-practice-zC3zx2nL-py3.7': poetry)"
  },
  "interpreter": {
   "hash": "d7d857f74f9306d9c1ce8cb5a318b78bb570b6e9905889abd1d3871c1df1301a"
  }
 },
 "nbformat": 4,
 "nbformat_minor": 2
}